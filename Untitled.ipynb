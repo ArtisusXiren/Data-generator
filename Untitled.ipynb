{
 "cells": [
  {
   "cell_type": "code",
   "execution_count": 1,
   "id": "3ca249e1",
   "metadata": {
    "tags": []
   },
   "outputs": [],
   "source": [
    "from flask import Flask,render_template,request\n",
    "import pandas as pd\n",
    "app=Flask(__name__)\n",
    "@app.route('/')\n",
    "def main():\n",
    "    return render_template(\"CSV_Software.html\")\n",
    "@app.route('/upload',methods=['POST'])\n",
    "def upload():\n",
    "    global path_excel\n",
    "    global sheet\n",
    "    global original_file\n",
    "    global path_decided\n",
    "    from Software_3 import func_format\n",
    "    original_file=request.files['file']\n",
    "    path_excel=request.files['file_to_change']\n",
    "    sheet=request.form['text']\n",
    "    directory=request.form['directory']\n",
    "    missing_data=pd.read_excel(path_excel,sheet_name=f\"{sheet}\")\n",
    "    product_data=pd.read_csv(original_file,low_memory=False)\n",
    "    path_decided=directory\n",
    "    Variable=func_format(product_data,missing_data,path_decided)\n",
    "    return \"Success!\""
   ]
  },
  {
   "cell_type": "code",
   "execution_count": null,
   "id": "cb7524c6-49e1-4277-9733-abd2df9f2dfa",
   "metadata": {
    "tags": []
   },
   "outputs": [
    {
     "name": "stdout",
     "output_type": "stream",
     "text": [
      " * Serving Flask app '__main__'\n",
      " * Debug mode: off\n"
     ]
    },
    {
     "name": "stderr",
     "output_type": "stream",
     "text": [
      "WARNING: This is a development server. Do not use it in a production deployment. Use a production WSGI server instead.\n",
      " * Running on http://127.0.0.1:5000\n",
      "Press CTRL+C to quit\n",
      "127.0.0.1 - - [01/Mar/2024 23:15:54] \"GET / HTTP/1.1\" 200 -\n",
      "127.0.0.1 - - [01/Mar/2024 23:17:05] \"POST /upload HTTP/1.1\" 200 -\n"
     ]
    }
   ],
   "source": [
    "app.run()"
   ]
  },
  {
   "cell_type": "code",
   "execution_count": null,
   "id": "de1141a3-b17b-487d-858a-6b87ed1ac740",
   "metadata": {},
   "outputs": [],
   "source": []
  }
 ],
 "metadata": {
  "kernelspec": {
   "display_name": "Python 3 (ipykernel)",
   "language": "python",
   "name": "python3"
  },
  "language_info": {
   "codemirror_mode": {
    "name": "ipython",
    "version": 3
   },
   "file_extension": ".py",
   "mimetype": "text/x-python",
   "name": "python",
   "nbconvert_exporter": "python",
   "pygments_lexer": "ipython3",
   "version": "3.11.5"
  }
 },
 "nbformat": 4,
 "nbformat_minor": 5
}
